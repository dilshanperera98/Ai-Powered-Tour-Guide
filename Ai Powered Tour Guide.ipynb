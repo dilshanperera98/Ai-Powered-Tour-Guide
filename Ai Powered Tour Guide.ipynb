{
 "cells": [
  {
   "cell_type": "code",
   "execution_count": 8,
   "id": "96b9e4bb-8625-4297-8087-306a15ab3d3a",
   "metadata": {},
   "outputs": [
    {
     "name": "stdout",
     "output_type": "stream",
     "text": [
      "Requirement already satisfied: requests in /opt/anaconda3/lib/python3.12/site-packages (2.32.3)\n",
      "Requirement already satisfied: openai in /opt/anaconda3/lib/python3.12/site-packages (0.28.0)\n",
      "Requirement already satisfied: google-cloud-vision in /opt/anaconda3/lib/python3.12/site-packages (3.10.0)\n",
      "Requirement already satisfied: charset-normalizer<4,>=2 in /opt/anaconda3/lib/python3.12/site-packages (from requests) (3.3.2)\n",
      "Requirement already satisfied: idna<4,>=2.5 in /opt/anaconda3/lib/python3.12/site-packages (from requests) (3.7)\n",
      "Requirement already satisfied: urllib3<3,>=1.21.1 in /opt/anaconda3/lib/python3.12/site-packages (from requests) (2.2.3)\n",
      "Requirement already satisfied: certifi>=2017.4.17 in /opt/anaconda3/lib/python3.12/site-packages (from requests) (2024.12.14)\n",
      "Requirement already satisfied: tqdm in /opt/anaconda3/lib/python3.12/site-packages (from openai) (4.66.5)\n",
      "Requirement already satisfied: aiohttp in /opt/anaconda3/lib/python3.12/site-packages (from openai) (3.10.5)\n",
      "Requirement already satisfied: google-api-core!=2.0.*,!=2.1.*,!=2.10.*,!=2.2.*,!=2.3.*,!=2.4.*,!=2.5.*,!=2.6.*,!=2.7.*,!=2.8.*,!=2.9.*,<3.0.0dev,>=1.34.1 in /opt/anaconda3/lib/python3.12/site-packages (from google-api-core[grpc]!=2.0.*,!=2.1.*,!=2.10.*,!=2.2.*,!=2.3.*,!=2.4.*,!=2.5.*,!=2.6.*,!=2.7.*,!=2.8.*,!=2.9.*,<3.0.0dev,>=1.34.1->google-cloud-vision) (2.24.1)\n",
      "Requirement already satisfied: google-auth!=2.24.0,!=2.25.0,<3.0.0dev,>=2.14.1 in /opt/anaconda3/lib/python3.12/site-packages (from google-cloud-vision) (2.38.0)\n",
      "Requirement already satisfied: proto-plus<2.0.0dev,>=1.22.3 in /opt/anaconda3/lib/python3.12/site-packages (from google-cloud-vision) (1.26.0)\n",
      "Requirement already satisfied: protobuf!=4.21.0,!=4.21.1,!=4.21.2,!=4.21.3,!=4.21.4,!=4.21.5,<6.0.0dev,>=3.20.2 in /opt/anaconda3/lib/python3.12/site-packages (from google-cloud-vision) (5.29.3)\n",
      "Requirement already satisfied: googleapis-common-protos<2.0.dev0,>=1.56.2 in /opt/anaconda3/lib/python3.12/site-packages (from google-api-core!=2.0.*,!=2.1.*,!=2.10.*,!=2.2.*,!=2.3.*,!=2.4.*,!=2.5.*,!=2.6.*,!=2.7.*,!=2.8.*,!=2.9.*,<3.0.0dev,>=1.34.1->google-api-core[grpc]!=2.0.*,!=2.1.*,!=2.10.*,!=2.2.*,!=2.3.*,!=2.4.*,!=2.5.*,!=2.6.*,!=2.7.*,!=2.8.*,!=2.9.*,<3.0.0dev,>=1.34.1->google-cloud-vision) (1.66.0)\n",
      "Requirement already satisfied: grpcio<2.0dev,>=1.33.2 in /opt/anaconda3/lib/python3.12/site-packages (from google-api-core[grpc]!=2.0.*,!=2.1.*,!=2.10.*,!=2.2.*,!=2.3.*,!=2.4.*,!=2.5.*,!=2.6.*,!=2.7.*,!=2.8.*,!=2.9.*,<3.0.0dev,>=1.34.1->google-cloud-vision) (1.70.0)\n",
      "Requirement already satisfied: grpcio-status<2.0.dev0,>=1.33.2 in /opt/anaconda3/lib/python3.12/site-packages (from google-api-core[grpc]!=2.0.*,!=2.1.*,!=2.10.*,!=2.2.*,!=2.3.*,!=2.4.*,!=2.5.*,!=2.6.*,!=2.7.*,!=2.8.*,!=2.9.*,<3.0.0dev,>=1.34.1->google-cloud-vision) (1.70.0)\n",
      "Requirement already satisfied: cachetools<6.0,>=2.0.0 in /opt/anaconda3/lib/python3.12/site-packages (from google-auth!=2.24.0,!=2.25.0,<3.0.0dev,>=2.14.1->google-cloud-vision) (5.3.3)\n",
      "Requirement already satisfied: pyasn1-modules>=0.2.1 in /opt/anaconda3/lib/python3.12/site-packages (from google-auth!=2.24.0,!=2.25.0,<3.0.0dev,>=2.14.1->google-cloud-vision) (0.2.8)\n",
      "Requirement already satisfied: rsa<5,>=3.1.4 in /opt/anaconda3/lib/python3.12/site-packages (from google-auth!=2.24.0,!=2.25.0,<3.0.0dev,>=2.14.1->google-cloud-vision) (4.9)\n",
      "Requirement already satisfied: aiohappyeyeballs>=2.3.0 in /opt/anaconda3/lib/python3.12/site-packages (from aiohttp->openai) (2.4.0)\n",
      "Requirement already satisfied: aiosignal>=1.1.2 in /opt/anaconda3/lib/python3.12/site-packages (from aiohttp->openai) (1.2.0)\n",
      "Requirement already satisfied: attrs>=17.3.0 in /opt/anaconda3/lib/python3.12/site-packages (from aiohttp->openai) (23.1.0)\n",
      "Requirement already satisfied: frozenlist>=1.1.1 in /opt/anaconda3/lib/python3.12/site-packages (from aiohttp->openai) (1.4.0)\n",
      "Requirement already satisfied: multidict<7.0,>=4.5 in /opt/anaconda3/lib/python3.12/site-packages (from aiohttp->openai) (6.0.4)\n",
      "Requirement already satisfied: yarl<2.0,>=1.0 in /opt/anaconda3/lib/python3.12/site-packages (from aiohttp->openai) (1.11.0)\n",
      "Requirement already satisfied: pyasn1<0.5.0,>=0.4.6 in /opt/anaconda3/lib/python3.12/site-packages (from pyasn1-modules>=0.2.1->google-auth!=2.24.0,!=2.25.0,<3.0.0dev,>=2.14.1->google-cloud-vision) (0.4.8)\n",
      "Note: you may need to restart the kernel to use updated packages.\n"
     ]
    }
   ],
   "source": [
    "pip install requests openai google-cloud-vision"
   ]
  },
  {
   "cell_type": "code",
   "execution_count": 10,
   "id": "2b7b2cd1-49c4-42cd-bb79-dcb78d43825f",
   "metadata": {},
   "outputs": [],
   "source": [
    "import io\n",
    "import requests\n",
    "import base64\n",
    "import openai  # Ensure OpenAI API is installed\n",
    "\n",
    "# Your API Keys\n",
    "GOOGLE_API_KEY = \"###\"\n",
    "OPENAI_API_KEY = \"###\"\n"
   ]
  },
  {
   "cell_type": "code",
   "execution_count": 12,
   "id": "3f3c45bc-c161-4270-aad2-7ffbfb477a69",
   "metadata": {},
   "outputs": [],
   "source": [
    "def detect_landmark(image_path):\n",
    "    \"\"\"Detects landmarks in an image using Google Vision API.\"\"\"\n",
    "    \n",
    "    # Read image file and encode it to base64\n",
    "    with io.open(image_path, \"rb\") as image_file:\n",
    "        encoded_image = base64.b64encode(image_file.read()).decode(\"utf-8\")\n",
    "\n",
    "    # Google Vision API Endpoint\n",
    "    vision_api_url = f\"https://vision.googleapis.com/v1/images:annotate?key={GOOGLE_API_KEY}\"\n",
    "\n",
    "    # API Request Payload\n",
    "    request_payload = {\n",
    "        \"requests\": [{\n",
    "            \"image\": {\"content\": encoded_image},\n",
    "            \"features\": [{\"type\": \"LANDMARK_DETECTION\", \"maxResults\": 5}]\n",
    "        }]\n",
    "    }\n",
    "\n",
    "    # Send API request\n",
    "    response = requests.post(vision_api_url, json=request_payload)\n",
    "\n",
    "    # Check response status\n",
    "    if response.status_code == 200:\n",
    "        response_data = response.json()\n",
    "        \n",
    "        # Print full API response for debugging\n",
    "        print(\"Full API Response:\", response_data)\n",
    "\n",
    "        # Extract landmark details\n",
    "        try:\n",
    "            landmarks = response_data[\"responses\"][0][\"landmarkAnnotations\"]\n",
    "            if landmarks:\n",
    "                return landmarks[0][\"description\"]  # Most relevant landmark\n",
    "        except KeyError:\n",
    "            return \"No landmark detected.\"\n",
    "    else:\n",
    "        return f\"API Error: {response.status_code}, {response.text}\"\n"
   ]
  },
  {
   "cell_type": "code",
   "execution_count": 14,
   "id": "ddf60a5c-fd67-452c-92de-a01c1953c50e",
   "metadata": {},
   "outputs": [],
   "source": [
    "def get_landmark_description(landmark_name):\n",
    "    \"\"\"Fetches historical details about the landmark using OpenAI GPT API.\"\"\"\n",
    "    \n",
    "    openai.api_key = OPENAI_API_KEY\n",
    "    prompt = f\"Give a short historical description of {landmark_name}.\"\n",
    "\n",
    "    response = openai.ChatCompletion.create(\n",
    "        model=\"gpt-4\",\n",
    "        messages=[{\"role\": \"system\", \"content\": \"You are a historian providing details about landmarks.\"},\n",
    "                  {\"role\": \"user\", \"content\": prompt}]\n",
    "    )\n",
    "\n",
    "    if \"choices\" in response and response[\"choices\"]:\n",
    "        return response[\"choices\"][0][\"message\"][\"content\"]\n",
    "    else:\n",
    "        return \"No historical data available !!\"\n"
   ]
  },
  {
   "cell_type": "code",
   "execution_count": 18,
   "id": "6690a14c-a0a0-4838-a303-26dc519040aa",
   "metadata": {},
   "outputs": [
    {
     "name": "stdout",
     "output_type": "stream",
     "text": [
      "Full API Response: {'responses': [{'landmarkAnnotations': [{'mid': '/m/0d5qx', 'description': 'Colosseum', 'score': 0.968624, 'boundingPoly': {'vertices': [{}, {'x': 1200}, {'x': 1200, 'y': 841}, {'y': 841}]}, 'locations': [{'latLng': {'latitude': 41.890210200000006, 'longitude': 12.492230899999997}}]}]}]}\n",
      "Detected Landmark: Colosseum\n",
      "Historical Description: The Colosseum, officially known as the Flavian Amphitheatre, is a large amphitheater in the center of the city of Rome, Italy. Construction of this monumental structure began under the rule of the Emperor Vespasian in around 70-72 AD and was completed in 80 AD under his successor and heir, Titus. Further changes were made during the reign of Domitian (81-96). The Colosseum, capable of seating approximately 50,000 spectators, was used for gladiatorial contests, public spectacles, and dramas based on Classical mythology. The arena itself was 83 meters by 48 meters (272 ft by 157 ft). \n",
      "\n",
      "Despite suffering significant damage over the centuries, including the effects of earthquakes and stone-robbers, the Colosseum is still an iconic symbol of Imperial Rome. It is one of Rome’s most popular tourist attractions and also has links to the Roman Catholic Church, as each Good Friday the Pope leads a torchlit procession that starts in the area around the Colosseum.\n"
     ]
    }
   ],
   "source": [
    "# Example Usage\n",
    "image_path = \"Colosseo_2020.jpg\"  # Change this to your image file\n",
    "landmark_name = detect_landmark(image_path)\n",
    "\n",
    "if \"API Error\" not in landmark_name and landmark_name != \"No landmark detected.\":\n",
    "    print(f\"Detected Landmark: {landmark_name}\")\n",
    "    historical_info = get_landmark_description(landmark_name)\n",
    "    print(f\"Historical Description: {historical_info}\")\n",
    "else:\n",
    "    print(\"No landmark detected !!\")\n"
   ]
  },
  {
   "cell_type": "code",
   "execution_count": null,
   "id": "820ab73b-0e9f-4807-9900-82fde9803b1b",
   "metadata": {},
   "outputs": [],
   "source": []
  }
 ],
 "metadata": {
  "kernelspec": {
   "display_name": "Python [conda env:base] *",
   "language": "python",
   "name": "conda-base-py"
  },
  "language_info": {
   "codemirror_mode": {
    "name": "ipython",
    "version": 3
   },
   "file_extension": ".py",
   "mimetype": "text/x-python",
   "name": "python",
   "nbconvert_exporter": "python",
   "pygments_lexer": "ipython3",
   "version": "3.12.7"
  }
 },
 "nbformat": 4,
 "nbformat_minor": 5
}
